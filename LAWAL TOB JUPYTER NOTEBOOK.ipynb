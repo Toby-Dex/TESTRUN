{
 "cells": [
  {
   "cell_type": "markdown",
   "id": "53a52f3d",
   "metadata": {},
   "source": [
    "# MY JUPYTER NOTEBOOK"
   ]
  },
  {
   "cell_type": "markdown",
   "id": "2b465373",
   "metadata": {},
   "source": [
    "### Lawal Tobi,\n",
    "### Currently a Microbiologist\n",
    "### Aspiring to be an Healthcare infomatician"
   ]
  },
  {
   "cell_type": "code",
   "execution_count": 2,
   "id": "f70d8063",
   "metadata": {},
   "outputs": [],
   "source": [
    "# I am interested in data science because i believe, whwn properly analyzed, can solve a lot of humanity problems."
   ]
  },
  {
   "cell_type": "markdown",
   "id": "2c56361e",
   "metadata": {},
   "source": [
    "# The following codes is for creating a list using python"
   ]
  },
  {
   "cell_type": "code",
   "execution_count": 3,
   "id": "e1ebf999",
   "metadata": {},
   "outputs": [
    {
     "name": "stdout",
     "output_type": "stream",
     "text": [
      "Python\n",
      "Java\n",
      "C\n",
      "A nice programming language is Java.\n",
      "One item on my list is GARRI\n",
      "Hello, my name is Lawal Tobi\n"
     ]
    }
   ],
   "source": [
    "programming_languages = ['python','java', 'C']\n",
    "for language in programming_languages:\n",
    "    print(language.title())\n",
    "    \n",
    "statement = programming_languages[-2]\n",
    "print(\"A nice programming language is \" + statement.title() + \".\")\n",
    "\n",
    "\n",
    "My_list = ['garri','fufu', 'semo']\n",
    "food = My_list[0]\n",
    "print(\"One item on my list is \" + food.upper())\n",
    "\n",
    "first_name = 'lawal'\n",
    "last_name = 'tobi'\n",
    "full_name = first_name + ' ' + last_name\n",
    "print(\"Hello, my name is \" + full_name.title())"
   ]
  },
  {
   "cell_type": "code",
   "execution_count": 4,
   "id": "e4b2434c",
   "metadata": {},
   "outputs": [
    {
     "name": "stdout",
     "output_type": "stream",
     "text": [
      "1. January\n",
      "2. Febuary\n",
      "3. March\n",
      "4. April\n",
      "-Monday\n",
      "-Tuesday\n",
      "-Wednesday\n",
      "-Thursday\n",
      "-Friday\n",
      "*Monday\n",
      "*Tuesday\n",
      "*Wednesday\n",
      "*Thursday\n",
      "*Friday\n"
     ]
    }
   ],
   "source": [
    "Months_names = ['January', 'Febuary', 'March', 'April']\n",
    "for index, value in enumerate (Months_names, 1):\n",
    "    print(\"{}. {}\".format(index, value))\n",
    "    \n",
    "days = ['Monday', 'Tuesday', 'Wednesday', 'Thursday', 'Friday']\n",
    "for week_days in days:\n",
    "    print(\"-\" + week_days.title())\n",
    "\n",
    "days = ['Monday', 'Tuesday', 'Wednesday', 'Thursday', 'Friday']\n",
    "for week_days in days:\n",
    "    print(\"*\" + week_days.title())"
   ]
  },
  {
   "cell_type": "code",
   "execution_count": null,
   "id": "eead05d4",
   "metadata": {},
   "outputs": [],
   "source": []
  }
 ],
 "metadata": {
  "kernelspec": {
   "display_name": "Python 3 (ipykernel)",
   "language": "python",
   "name": "python3"
  },
  "language_info": {
   "codemirror_mode": {
    "name": "ipython",
    "version": 3
   },
   "file_extension": ".py",
   "mimetype": "text/x-python",
   "name": "python",
   "nbconvert_exporter": "python",
   "pygments_lexer": "ipython3",
   "version": "3.9.12"
  }
 },
 "nbformat": 4,
 "nbformat_minor": 5
}
